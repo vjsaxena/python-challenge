{
 "cells": [
  {
   "cell_type": "code",
   "execution_count": 211,
   "metadata": {},
   "outputs": [],
   "source": [
    "#Necessary Import\n",
    "import csv"
   ]
  },
  {
   "cell_type": "code",
   "execution_count": 212,
   "metadata": {},
   "outputs": [],
   "source": [
    "#Define files to be used in the program\n",
    "budget_csv = \"Resources/budget_data.csv\"\n",
    "result_file = \"Analysis/budget_analysis.txt\""
   ]
  },
  {
   "cell_type": "code",
   "execution_count": 213,
   "metadata": {},
   "outputs": [],
   "source": [
    "#Define variables\n",
    "total_net_amount=0\n",
    "avg_change=0\n",
    "month_list=[]\n",
    "monthly_change_list=[]\n",
    "total_months=0\n",
    "prev_amount=0\n",
    "net_change=0\n",
    "amt=0\n",
    "result_string=\"\""
   ]
  },
  {
   "cell_type": "code",
   "execution_count": 214,
   "metadata": {},
   "outputs": [],
   "source": [
    "#Open File\n",
    "with open(budget_csv, newline='') as budget_file:\n",
    "    budget_reader = csv.reader(budget_file, delimiter=\",\")\n",
    "    \n",
    "    #skip header\n",
    "    header=next(budget_reader)\n",
    "    \n",
    "    #Process rest of the file\n",
    "    for budget_line in budget_reader:\n",
    "        total_months=total_months+1                                 #count months\n",
    "        total_net_amount =total_net_amount+int(budget_line[1])      #Calculate Total Net Amount\n",
    "                       \n",
    "        month_list.append(budget_line[0])                           #Append to List of Months\n",
    "        \n",
    "        #change for first month is 0\n",
    "        if (total_months==1):\n",
    "            amt=0\n",
    "        else:\n",
    "            amt=int(budget_line[1]) - prev_amount\n",
    "        \n",
    "        monthly_change_list.append(amt)\n",
    "        prev_amount=int(budget_line[1])\n",
    "        net_change=net_change+amt\n",
    "        "
   ]
  },
  {
   "cell_type": "code",
   "execution_count": 215,
   "metadata": {},
   "outputs": [],
   "source": [
    "    #Calculate Average, Greatest Increase, Greatest Decrease and respective months    \n",
    "    avg_change =net_change / (total_months- 1)\n",
    "    max_inc_amt=max(monthly_change_list)\n",
    "    max_dec_amt=min(monthly_change_list)\n",
    "    max_inc_month=month_list[monthly_change_list.index(max_inc_amt)]\n",
    "    max_dec_month=month_list[monthly_change_list.index(max_dec_amt)]\n",
    "   "
   ]
  },
  {
   "cell_type": "code",
   "execution_count": 216,
   "metadata": {},
   "outputs": [],
   "source": [
    "    #Store/Print result in a string\n",
    "    result_string=(f\"\\nFinancial Analysis\\n----------------------------\\n\"\n",
    "                   f\"Total Months: {total_months}\\n\"\n",
    "                   f\"Total: ${total_net_amount}\\n\"\n",
    "                   f\"Average Change: ${avg_change:.2f}\\n\"\n",
    "                   f\"Greatest Increase in Profits: {max_inc_month} (${max_inc_amt})\\n\"\n",
    "                   f\"Greatest Decrease in Profits: {max_dec_month} (${max_dec_amt})\\n\"\n",
    "    )\n",
    "    "
   ]
  },
  {
   "cell_type": "code",
   "execution_count": 217,
   "metadata": {},
   "outputs": [
    {
     "name": "stdout",
     "output_type": "stream",
     "text": [
      "\n",
      "Financial Analysis\n",
      "----------------------------\n",
      "Total Months: 86\n",
      "Total: $38382578\n",
      "Average Change: $-2315.12\n",
      "Greatest Increase in Profits: Feb-2012 ($1926159)\n",
      "Greatest Decrease in Profits: Sep-2013 ($-2196167)\n",
      "\n"
     ]
    }
   ],
   "source": [
    "print(result_string)"
   ]
  },
  {
   "cell_type": "code",
   "execution_count": 218,
   "metadata": {},
   "outputs": [],
   "source": [
    "#Write result to disk        \n",
    "with open(result_file, \"w\") as out_file:\n",
    "    out_file.write(result_string)  "
   ]
  },
  {
   "cell_type": "code",
   "execution_count": null,
   "metadata": {},
   "outputs": [],
   "source": []
  }
 ],
 "metadata": {
  "kernelspec": {
   "display_name": "Python 3",
   "language": "python",
   "name": "python3"
  },
  "language_info": {
   "codemirror_mode": {
    "name": "ipython",
    "version": 3
   },
   "file_extension": ".py",
   "mimetype": "text/x-python",
   "name": "python",
   "nbconvert_exporter": "python",
   "pygments_lexer": "ipython3",
   "version": "3.6.4"
  }
 },
 "nbformat": 4,
 "nbformat_minor": 2
}
