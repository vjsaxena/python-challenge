{
 "cells": [
  {
   "cell_type": "code",
   "execution_count": 95,
   "metadata": {},
   "outputs": [],
   "source": [
    "#Necessary Import\n",
    "import csv"
   ]
  },
  {
   "cell_type": "code",
   "execution_count": 96,
   "metadata": {},
   "outputs": [],
   "source": [
    "#Define files to be used in the program\n",
    "poll_csv = \"Resources/election_data.csv\"\n",
    "result_file = \"Analysis/election_analysis.txt\""
   ]
  },
  {
   "cell_type": "code",
   "execution_count": 97,
   "metadata": {},
   "outputs": [],
   "source": [
    "#Define Variables\n",
    "vote_count=0\n",
    "cdict={}\n",
    "output_str=\"\"\n",
    "output_line=\"-------------------------\\n\""
   ]
  },
  {
   "cell_type": "code",
   "execution_count": 98,
   "metadata": {},
   "outputs": [],
   "source": [
    "#Open the file\n",
    "with open(poll_csv, newline='') as poll_file:\n",
    "    poll_reader=csv.reader(poll_file, delimiter=\",\")\n",
    "    \n",
    "    #Skip the header\n",
    "    header=next(poll_reader)\n",
    "\n",
    "    #Loop to count the vote and build candidate dictionary along with respective count\n",
    "    for row in poll_reader:\n",
    "        vote_count=vote_count+1\n",
    "        if row[2] in cdict.keys() :\n",
    "            cdict[row[2]]= cdict[row[2]] +1\n",
    "        else:\n",
    "            cdict[row[2]]=1"
   ]
  },
  {
   "cell_type": "code",
   "execution_count": 105,
   "metadata": {},
   "outputs": [],
   "source": [
    "    #Building output string        \n",
    "    output_str=(f\"\\nElection Results\\n\"\n",
    "                f\"{output_line}\"\n",
    "                f\"Total Votes: {vote_count}\\n\"\n",
    "                f\"{output_line}\"\n",
    "               )"
   ]
  },
  {
   "cell_type": "code",
   "execution_count": 106,
   "metadata": {},
   "outputs": [],
   "source": [
    "    #adding candidate details to the output string\n",
    "    for i in cdict:\n",
    "        output_str=output_str+f\"{i}: {(cdict[i]/vote_count)*100:.3f}% ({cdict[i]})\\n\"\n"
   ]
  },
  {
   "cell_type": "code",
   "execution_count": 107,
   "metadata": {},
   "outputs": [],
   "source": [
    "    #finding max/min votes, Winning candidate and adding to output string\n",
    "    v=list(cdict.values())\n",
    "    k=list(cdict.keys())\n",
    "    output_str = (f\"{output_str}\"\n",
    "                  f\"{output_line}\"\n",
    "                  f\"Winner: {k[v.index(max(v))]}\\n\"\n",
    "                  #f\"Winner: {k[v.index(max(v))]}  with {max(v)} votes\\n\"\n",
    "                  f\"{output_line}\"\n",
    "                 )\n"
   ]
  },
  {
   "cell_type": "code",
   "execution_count": 108,
   "metadata": {},
   "outputs": [
    {
     "name": "stdout",
     "output_type": "stream",
     "text": [
      "\n",
      "Election Results\n",
      "-------------------------\n",
      "Total Votes: 3521001\n",
      "-------------------------\n",
      "Khan: 63.000% (2218231)\n",
      "Correy: 20.000% (704200)\n",
      "Li: 14.000% (492940)\n",
      "O'Tooley: 3.000% (105630)\n",
      "-------------------------\n",
      "Winner: Khan\n",
      "-------------------------\n",
      "\n"
     ]
    }
   ],
   "source": [
    "    #Output to console\n",
    "    print(output_str)"
   ]
  },
  {
   "cell_type": "code",
   "execution_count": 92,
   "metadata": {},
   "outputs": [],
   "source": [
    "#Write result to disk        \n",
    "with open(result_file, \"w\") as out_file:\n",
    "    out_file.write(output_str) #Write result to disk        \n"
   ]
  }
 ],
 "metadata": {
  "kernelspec": {
   "display_name": "Python 3",
   "language": "python",
   "name": "python3"
  },
  "language_info": {
   "codemirror_mode": {
    "name": "ipython",
    "version": 3
   },
   "file_extension": ".py",
   "mimetype": "text/x-python",
   "name": "python",
   "nbconvert_exporter": "python",
   "pygments_lexer": "ipython3",
   "version": "3.6.4"
  }
 },
 "nbformat": 4,
 "nbformat_minor": 2
}
